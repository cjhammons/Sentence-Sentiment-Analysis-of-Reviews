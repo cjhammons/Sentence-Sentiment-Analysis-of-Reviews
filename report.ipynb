{
 "cells": [
  {
   "cell_type": "markdown",
   "metadata": {},
   "source": [
    "# Research Question"
   ]
  },
  {
   "cell_type": "code",
   "execution_count": 1,
   "metadata": {},
   "outputs": [],
   "source": [
    "import tensorflow as tf\n",
    "from tensorflow import keras\n",
    "from sklearn.model_selection import train_test_split\n",
    "import pandas as pd\n",
    "import csv\n",
    "import numpy as np\n",
    "import matplotlib.pyplot as plt"
   ]
  },
  {
   "cell_type": "markdown",
   "metadata": {},
   "source": [
    "# Data Preparation\n",
    "\n",
    "## Import Data"
   ]
  },
  {
   "cell_type": "code",
   "execution_count": 2,
   "metadata": {},
   "outputs": [
    {
     "data": {
      "text/html": [
       "<div>\n",
       "<style scoped>\n",
       "    .dataframe tbody tr th:only-of-type {\n",
       "        vertical-align: middle;\n",
       "    }\n",
       "\n",
       "    .dataframe tbody tr th {\n",
       "        vertical-align: top;\n",
       "    }\n",
       "\n",
       "    .dataframe thead th {\n",
       "        text-align: right;\n",
       "    }\n",
       "</style>\n",
       "<table border=\"1\" class=\"dataframe\">\n",
       "  <thead>\n",
       "    <tr style=\"text-align: right;\">\n",
       "      <th></th>\n",
       "      <th>sentence</th>\n",
       "      <th>label</th>\n",
       "    </tr>\n",
       "  </thead>\n",
       "  <tbody>\n",
       "    <tr>\n",
       "      <th>0</th>\n",
       "      <td>So there is no way for me to plug it in here i...</td>\n",
       "      <td>0</td>\n",
       "    </tr>\n",
       "    <tr>\n",
       "      <th>1</th>\n",
       "      <td>Good case, Excellent value.</td>\n",
       "      <td>1</td>\n",
       "    </tr>\n",
       "    <tr>\n",
       "      <th>2</th>\n",
       "      <td>Great for the jawbone.</td>\n",
       "      <td>1</td>\n",
       "    </tr>\n",
       "    <tr>\n",
       "      <th>3</th>\n",
       "      <td>Tied to charger for conversations lasting more...</td>\n",
       "      <td>0</td>\n",
       "    </tr>\n",
       "    <tr>\n",
       "      <th>4</th>\n",
       "      <td>The mic is great.</td>\n",
       "      <td>1</td>\n",
       "    </tr>\n",
       "  </tbody>\n",
       "</table>\n",
       "</div>"
      ],
      "text/plain": [
       "                                            sentence  label\n",
       "0  So there is no way for me to plug it in here i...      0\n",
       "1                        Good case, Excellent value.      1\n",
       "2                             Great for the jawbone.      1\n",
       "3  Tied to charger for conversations lasting more...      0\n",
       "4                                  The mic is great.      1"
      ]
     },
     "execution_count": 2,
     "metadata": {},
     "output_type": "execute_result"
    }
   ],
   "source": [
    "with open('data/amazon_cells_labelled.txt') as f:\n",
    "    reader = csv.reader(f, delimiter='\\t')\n",
    "    amazon = list(reader)\n",
    "\n",
    "amazon_df = pd.DataFrame(amazon, columns=['sentence', 'label'])\n",
    "\n",
    "with open('data/imdb_labelled.txt') as f:\n",
    "    reader = csv.reader(f, delimiter='\\t')\n",
    "    imdb = list(reader)\n",
    "\n",
    "imdb_df = pd.DataFrame(imdb, columns=['sentence', 'label'])\n",
    "\n",
    "\n",
    "with open('data/yelp_labelled.txt') as f:\n",
    "    reader = csv.reader(f, delimiter='\\t')\n",
    "    yelp = list(reader)\n",
    "\n",
    "yelp_df = pd.DataFrame(yelp, columns=['sentence', 'label'])\n",
    "\n",
    "df = pd.concat([amazon_df, imdb_df, yelp_df])\n",
    "df['label'] = df['label'].astype(int)\n",
    "df.head()"
   ]
  },
  {
   "cell_type": "markdown",
   "metadata": {},
   "source": []
  },
  {
   "cell_type": "code",
   "execution_count": 3,
   "metadata": {},
   "outputs": [
    {
     "name": "stdout",
     "output_type": "stream",
     "text": [
      "Max length of sentence: 1400\n",
      "Average length of sentence: 13.074599708879186\n"
     ]
    }
   ],
   "source": [
    "# Tokenize training and testdata\n",
    "tok = keras.preprocessing.text.Tokenizer()\n",
    "tok.fit_on_texts(df['sentence'])\n",
    "X = tok.texts_to_sequences(df['sentence'])\n",
    "\n",
    "\" \".join(map(str,X[0]))\n",
    "\n",
    "# print lengths of the training and test sentences\n",
    "lengths = [len(i) for i in X]\n",
    "print(f'Max length of sentence: {max(lengths)}')\n",
    "print(f'Average length of sentence: {np.mean(lengths)}')"
   ]
  },
  {
   "cell_type": "code",
   "execution_count": 4,
   "metadata": {},
   "outputs": [
    {
     "data": {
      "text/plain": [
       "'plug it in here in the us unless i go by a converter'"
      ]
     },
     "execution_count": 4,
     "metadata": {},
     "output_type": "execute_result"
    }
   ],
   "source": [
    "# Pad sequences so each is the length of 10, the average\n",
    "X= keras.preprocessing.sequence.pad_sequences(X, padding='post', maxlen=13)\n",
    "\n",
    "reverse_word_map = dict(map(reversed, tok.word_index.items()))\n",
    "\n",
    "' '.join(reverse_word_map[i] for i in X[0] if i!=0) # exclude 0 due to padding"
   ]
  },
  {
   "cell_type": "code",
   "execution_count": 5,
   "metadata": {},
   "outputs": [
    {
     "name": "stdout",
     "output_type": "stream",
     "text": [
      "Model: \"sequential\"\n",
      "_________________________________________________________________\n",
      " Layer (type)                Output Shape              Param #   \n",
      "=================================================================\n",
      " embedding (Embedding)       (None, None, 64)          337408    \n",
      "                                                                 \n",
      " global_average_pooling1d (G  (None, 64)               0         \n",
      " lobalAveragePooling1D)                                          \n",
      "                                                                 \n",
      " dense (Dense)               (None, 16)                1040      \n",
      "                                                                 \n",
      " dropout (Dropout)           (None, 16)                0         \n",
      "                                                                 \n",
      " dense_1 (Dense)             (None, 1)                 17        \n",
      "                                                                 \n",
      "=================================================================\n",
      "Total params: 338,465\n",
      "Trainable params: 338,465\n",
      "Non-trainable params: 0\n",
      "_________________________________________________________________\n"
     ]
    }
   ],
   "source": [
    "vocab_size = len(tok.word_index) + 1\n",
    "\n",
    "# Create Model and layers\n",
    "model = keras.Sequential([\n",
    "    keras.layers.Embedding(vocab_size, 64),\n",
    "    keras.layers.GlobalAveragePooling1D(),\n",
    "    keras.layers.Dense(16, activation=tf.nn.relu),\n",
    "    keras.layers.Dropout(0.1),\n",
    "    keras.layers.Dense(1, activation=tf.nn.sigmoid)\n",
    "])\n",
    "\n",
    "model.summary()"
   ]
  },
  {
   "cell_type": "code",
   "execution_count": 6,
   "metadata": {},
   "outputs": [
    {
     "name": "stdout",
     "output_type": "stream",
     "text": [
      "Model: \"sequential\"\n",
      "_________________________________________________________________\n",
      " Layer (type)                Output Shape              Param #   \n",
      "=================================================================\n",
      " embedding (Embedding)       (None, None, 64)          337408    \n",
      "                                                                 \n",
      " global_average_pooling1d (G  (None, 64)               0         \n",
      " lobalAveragePooling1D)                                          \n",
      "                                                                 \n",
      " dense (Dense)               (None, 16)                1040      \n",
      "                                                                 \n",
      " dropout (Dropout)           (None, 16)                0         \n",
      "                                                                 \n",
      " dense_1 (Dense)             (None, 1)                 17        \n",
      "                                                                 \n",
      "=================================================================\n",
      "Total params: 338,465\n",
      "Trainable params: 338,465\n",
      "Non-trainable params: 0\n",
      "_________________________________________________________________\n"
     ]
    }
   ],
   "source": [
    "model.compile(optimizer='adam',\n",
    "              loss='binary_crossentropy',\n",
    "              metrics=['accuracy'])\n",
    "model.summary()"
   ]
  },
  {
   "cell_type": "code",
   "execution_count": 7,
   "metadata": {},
   "outputs": [
    {
     "name": "stdout",
     "output_type": "stream",
     "text": [
      "Epoch 1/10\n"
     ]
    },
    {
     "name": "stderr",
     "output_type": "stream",
     "text": [
      "2022-03-30 10:29:28.040081: W tensorflow/core/platform/profile_utils/cpu_utils.cc:128] Failed to get CPU frequency: 0 Hz\n"
     ]
    },
    {
     "name": "stdout",
     "output_type": "stream",
     "text": [
      "61/61 [==============================] - 0s 3ms/step - loss: 0.6899 - accuracy: 0.5746 - val_loss: 0.6868 - val_accuracy: 0.5794\n",
      "Epoch 2/10\n",
      "61/61 [==============================] - 0s 2ms/step - loss: 0.6621 - accuracy: 0.7140 - val_loss: 0.6538 - val_accuracy: 0.7079\n",
      "Epoch 3/10\n",
      "61/61 [==============================] - 0s 2ms/step - loss: 0.5623 - accuracy: 0.8502 - val_loss: 0.5680 - val_accuracy: 0.7564\n",
      "Epoch 4/10\n",
      "61/61 [==============================] - 0s 2ms/step - loss: 0.3944 - accuracy: 0.9054 - val_loss: 0.4917 - val_accuracy: 0.7721\n",
      "Epoch 5/10\n",
      "61/61 [==============================] - 0s 2ms/step - loss: 0.2613 - accuracy: 0.9386 - val_loss: 0.4597 - val_accuracy: 0.7818\n",
      "Epoch 6/10\n",
      "61/61 [==============================] - 0s 3ms/step - loss: 0.1755 - accuracy: 0.9626 - val_loss: 0.4589 - val_accuracy: 0.7794\n",
      "Epoch 7/10\n",
      "61/61 [==============================] - 0s 2ms/step - loss: 0.1297 - accuracy: 0.9709 - val_loss: 0.4826 - val_accuracy: 0.7745\n",
      "Epoch 8/10\n",
      "61/61 [==============================] - 0s 3ms/step - loss: 0.0990 - accuracy: 0.9828 - val_loss: 0.4910 - val_accuracy: 0.7867\n",
      "Epoch 9/10\n",
      "61/61 [==============================] - 0s 2ms/step - loss: 0.0765 - accuracy: 0.9849 - val_loss: 0.5287 - val_accuracy: 0.7697\n",
      "Epoch 10/10\n",
      "61/61 [==============================] - 0s 3ms/step - loss: 0.0627 - accuracy: 0.9896 - val_loss: 0.5398 - val_accuracy: 0.7782\n"
     ]
    }
   ],
   "source": [
    "# train/test split\n",
    "X_train, X_test, y_train, y_test = train_test_split(X, df['label'], test_size=0.3, random_state=42)\n",
    "#Fit model\n",
    "history = model.fit(X_train, y_train, epochs=10, validation_data=(X_test, y_test), batch_size=32)"
   ]
  },
  {
   "cell_type": "code",
   "execution_count": 8,
   "metadata": {},
   "outputs": [
    {
     "name": "stdout",
     "output_type": "stream",
     "text": [
      "Training Accuracy: 0.9948\n",
      "Validation Accuracy:  0.7782\n",
      "Testing Accuracy:  0.7782\n"
     ]
    }
   ],
   "source": [
    "loss, accuracy = model.evaluate(X_train, y_train, verbose=False)\n",
    "print(\"Training Accuracy: {:.4f}\".format(accuracy))\n",
    "loss, accuracy = model.evaluate(X_test, y_test, verbose=False)\n",
    "print(\"Validation Accuracy:  {:.4f}\".format(accuracy))\n",
    "loss, accuracy = model.evaluate(X_test, y_test, verbose=False)\n",
    "print(\"Testing Accuracy:  {:.4f}\".format(accuracy))"
   ]
  },
  {
   "cell_type": "code",
   "execution_count": 9,
   "metadata": {},
   "outputs": [
    {
     "data": {
      "image/png": "[encoded data removed]",
      "text/plain": [
       "<Figure size 432x288 with 1 Axes>"
      ]
     },
     "metadata": {
      "needs_background": "light"
     },
     "output_type": "display_data"
    }
   ],
   "source": [
    "history_dict = history.history\n",
    "\n",
    "acc = history_dict['accuracy']\n",
    "val_acc = history_dict['val_accuracy']\n",
    "loss = history_dict['loss']\n",
    "val_loss = history_dict['val_loss']\n",
    "\n",
    "epochs = range(1, len(acc) + 1)\n",
    "\n",
    "\n",
    "plt.plot(epochs, loss, 'bo', label='Training loss')\n",
    "plt.plot(epochs, val_loss, 'b', label='Validation loss')\n",
    "plt.title('Training and validation loss')\n",
    "plt.xlabel('Epochs')\n",
    "plt.ylabel('Loss')\n",
    "plt.legend()\n",
    "\n",
    "plt.show()"
   ]
  },
  {
   "cell_type": "code",
   "execution_count": 10,
   "metadata": {},
   "outputs": [
    {
     "data": {
      "image/png": "[encoded data removed]",
      "text/plain": [
       "<Figure size 432x288 with 1 Axes>"
      ]
     },
     "metadata": {
      "needs_background": "light"
     },
     "output_type": "display_data"
    }
   ],
   "source": [
    "plt.clf()  \n",
    "\n",
    "plt.plot(epochs, acc, 'bo', label='Training acc')\n",
    "plt.plot(epochs, val_acc, 'b', label='Validation acc')\n",
    "plt.title('Training and validation accuracy')\n",
    "plt.xlabel('Epochs')\n",
    "plt.ylabel('Accuracy')\n",
    "plt.legend()\n",
    "\n",
    "plt.show()"
   ]
  }
 ],
 "metadata": {
  "interpreter": {
   "hash": "aa1c0332c1f0569c3cc1190506c80fab67af9672c203985e98fb5c081c05f0ff"
  },
  "kernelspec": {
   "display_name": "Python 3.10.4 ('d213-2')",
   "language": "python",
   "name": "python3"
  },
  "language_info": {
   "codemirror_mode": {
    "name": "ipython",
    "version": 3
   },
   "file_extension": ".py",
   "mimetype": "text/x-python",
   "name": "python",
   "nbconvert_exporter": "python",
   "pygments_lexer": "ipython3",
   "version": "3.8.11"
  },
  "orig_nbformat": 4
 },
 "nbformat": 4,
 "nbformat_minor": 2
}
