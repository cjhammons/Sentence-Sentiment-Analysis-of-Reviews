{
 "cells": [
  {
   "cell_type": "markdown",
   "metadata": {},
   "source": [
    "# Research Question\n",
    "\n",
    "We'll be using a Neural Network model and Natural Language Processing to perform sentinment analysis on reviews. Our goal is to build a model that can predict if a sentence is positive or negative."
   ]
  },
  {
   "cell_type": "code",
   "execution_count": 1,
   "metadata": {},
   "outputs": [],
   "source": [
    "import tensorflow as tf\n",
    "from tensorflow import keras\n",
    "from sklearn.model_selection import train_test_split\n",
    "import pandas as pd\n",
    "import csv\n",
    "import numpy as np\n",
    "import matplotlib.pyplot as plt\n",
    "from sklearn.feature_extraction.text import CountVectorizer"
   ]
  },
  {
   "cell_type": "markdown",
   "metadata": {},
   "source": [
    "# Data Preparation\n",
    "\n",
    "The raw data must be modified from it's raw form in order to be used in out Neural Network.\n",
    "\n",
    "## Import Data\n",
    "\n",
    "We are using three differet data source files, each contains 500 sentences labeled positive or negative. The sentances are sourced from Amazon reviews, IMDB reviews, and Yelp reviews. \n",
    "\n",
    "We import each file in its ``.txt`` form and convert them into dataframes."
   ]
  },
  {
   "cell_type": "code",
   "execution_count": 2,
   "metadata": {},
   "outputs": [
    {
     "data": {
      "text/html": [
       "<div>\n",
       "<style scoped>\n",
       "    .dataframe tbody tr th:only-of-type {\n",
       "        vertical-align: middle;\n",
       "    }\n",
       "\n",
       "    .dataframe tbody tr th {\n",
       "        vertical-align: top;\n",
       "    }\n",
       "\n",
       "    .dataframe thead th {\n",
       "        text-align: right;\n",
       "    }\n",
       "</style>\n",
       "<table border=\"1\" class=\"dataframe\">\n",
       "  <thead>\n",
       "    <tr style=\"text-align: right;\">\n",
       "      <th></th>\n",
       "      <th>sentence</th>\n",
       "      <th>label</th>\n",
       "    </tr>\n",
       "  </thead>\n",
       "  <tbody>\n",
       "    <tr>\n",
       "      <th>0</th>\n",
       "      <td>So there is no way for me to plug it in here i...</td>\n",
       "      <td>0</td>\n",
       "    </tr>\n",
       "    <tr>\n",
       "      <th>1</th>\n",
       "      <td>Good case, Excellent value.</td>\n",
       "      <td>1</td>\n",
       "    </tr>\n",
       "    <tr>\n",
       "      <th>2</th>\n",
       "      <td>Great for the jawbone.</td>\n",
       "      <td>1</td>\n",
       "    </tr>\n",
       "    <tr>\n",
       "      <th>3</th>\n",
       "      <td>Tied to charger for conversations lasting more...</td>\n",
       "      <td>0</td>\n",
       "    </tr>\n",
       "    <tr>\n",
       "      <th>4</th>\n",
       "      <td>The mic is great.</td>\n",
       "      <td>1</td>\n",
       "    </tr>\n",
       "  </tbody>\n",
       "</table>\n",
       "</div>"
      ],
      "text/plain": [
       "                                            sentence label\n",
       "0  So there is no way for me to plug it in here i...     0\n",
       "1                        Good case, Excellent value.     1\n",
       "2                             Great for the jawbone.     1\n",
       "3  Tied to charger for conversations lasting more...     0\n",
       "4                                  The mic is great.     1"
      ]
     },
     "execution_count": 2,
     "metadata": {},
     "output_type": "execute_result"
    }
   ],
   "source": [
    "with open('data/amazon_cells_labelled.txt') as f:\n",
    "    reader = csv.reader(f, delimiter='\\t')\n",
    "    amazon = list(reader)\n",
    "\n",
    "amazon_df = pd.DataFrame(amazon, columns=['sentence', 'label'])\n",
    "amazon_df.head()"
   ]
  },
  {
   "cell_type": "code",
   "execution_count": 3,
   "metadata": {},
   "outputs": [
    {
     "data": {
      "text/html": [
       "<div>\n",
       "<style scoped>\n",
       "    .dataframe tbody tr th:only-of-type {\n",
       "        vertical-align: middle;\n",
       "    }\n",
       "\n",
       "    .dataframe tbody tr th {\n",
       "        vertical-align: top;\n",
       "    }\n",
       "\n",
       "    .dataframe thead th {\n",
       "        text-align: right;\n",
       "    }\n",
       "</style>\n",
       "<table border=\"1\" class=\"dataframe\">\n",
       "  <thead>\n",
       "    <tr style=\"text-align: right;\">\n",
       "      <th></th>\n",
       "      <th>sentence</th>\n",
       "      <th>label</th>\n",
       "    </tr>\n",
       "  </thead>\n",
       "  <tbody>\n",
       "    <tr>\n",
       "      <th>0</th>\n",
       "      <td>A very, very, very slow-moving, aimless movie ...</td>\n",
       "      <td>0</td>\n",
       "    </tr>\n",
       "    <tr>\n",
       "      <th>1</th>\n",
       "      <td>Not sure who was more lost - the flat characte...</td>\n",
       "      <td>0</td>\n",
       "    </tr>\n",
       "    <tr>\n",
       "      <th>2</th>\n",
       "      <td>Attempting artiness with black &amp; white and cle...</td>\n",
       "      <td>0</td>\n",
       "    </tr>\n",
       "    <tr>\n",
       "      <th>3</th>\n",
       "      <td>Very little music or anything to speak of.</td>\n",
       "      <td>0</td>\n",
       "    </tr>\n",
       "    <tr>\n",
       "      <th>4</th>\n",
       "      <td>The best scene in the movie was when Gerardo i...</td>\n",
       "      <td>1</td>\n",
       "    </tr>\n",
       "  </tbody>\n",
       "</table>\n",
       "</div>"
      ],
      "text/plain": [
       "                                            sentence label\n",
       "0  A very, very, very slow-moving, aimless movie ...     0\n",
       "1  Not sure who was more lost - the flat characte...     0\n",
       "2  Attempting artiness with black & white and cle...     0\n",
       "3       Very little music or anything to speak of.       0\n",
       "4  The best scene in the movie was when Gerardo i...     1"
      ]
     },
     "execution_count": 3,
     "metadata": {},
     "output_type": "execute_result"
    }
   ],
   "source": [
    "with open('data/imdb_labelled.txt') as f:\n",
    "    reader = csv.reader(f, delimiter='\\t')\n",
    "    imdb = list(reader)\n",
    "    \n",
    "imdb_df = pd.DataFrame(imdb, columns=['sentence', 'label'])\n",
    "imdb_df.head()"
   ]
  },
  {
   "cell_type": "code",
   "execution_count": 4,
   "metadata": {},
   "outputs": [
    {
     "data": {
      "text/html": [
       "<div>\n",
       "<style scoped>\n",
       "    .dataframe tbody tr th:only-of-type {\n",
       "        vertical-align: middle;\n",
       "    }\n",
       "\n",
       "    .dataframe tbody tr th {\n",
       "        vertical-align: top;\n",
       "    }\n",
       "\n",
       "    .dataframe thead th {\n",
       "        text-align: right;\n",
       "    }\n",
       "</style>\n",
       "<table border=\"1\" class=\"dataframe\">\n",
       "  <thead>\n",
       "    <tr style=\"text-align: right;\">\n",
       "      <th></th>\n",
       "      <th>sentence</th>\n",
       "      <th>label</th>\n",
       "    </tr>\n",
       "  </thead>\n",
       "  <tbody>\n",
       "    <tr>\n",
       "      <th>0</th>\n",
       "      <td>Wow... Loved this place.</td>\n",
       "      <td>1</td>\n",
       "    </tr>\n",
       "    <tr>\n",
       "      <th>1</th>\n",
       "      <td>Crust is not good.</td>\n",
       "      <td>0</td>\n",
       "    </tr>\n",
       "    <tr>\n",
       "      <th>2</th>\n",
       "      <td>Not tasty and the texture was just nasty.</td>\n",
       "      <td>0</td>\n",
       "    </tr>\n",
       "    <tr>\n",
       "      <th>3</th>\n",
       "      <td>Stopped by during the late May bank holiday of...</td>\n",
       "      <td>1</td>\n",
       "    </tr>\n",
       "    <tr>\n",
       "      <th>4</th>\n",
       "      <td>The selection on the menu was great and so wer...</td>\n",
       "      <td>1</td>\n",
       "    </tr>\n",
       "  </tbody>\n",
       "</table>\n",
       "</div>"
      ],
      "text/plain": [
       "                                            sentence label\n",
       "0                           Wow... Loved this place.     1\n",
       "1                                 Crust is not good.     0\n",
       "2          Not tasty and the texture was just nasty.     0\n",
       "3  Stopped by during the late May bank holiday of...     1\n",
       "4  The selection on the menu was great and so wer...     1"
      ]
     },
     "execution_count": 4,
     "metadata": {},
     "output_type": "execute_result"
    }
   ],
   "source": [
    "with open('data/yelp_labelled.txt') as f:\n",
    "    reader = csv.reader(f, delimiter='\\t')\n",
    "    yelp = list(reader)\n",
    "\n",
    "yelp_df = pd.DataFrame(yelp, columns=['sentence', 'label'])\n",
    "yelp_df.head()"
   ]
  },
  {
   "cell_type": "markdown",
   "metadata": {},
   "source": [
    "Now we concat the three dataframes into a single one."
   ]
  },
  {
   "cell_type": "code",
   "execution_count": 5,
   "metadata": {},
   "outputs": [
    {
     "data": {
      "text/html": [
       "<div>\n",
       "<style scoped>\n",
       "    .dataframe tbody tr th:only-of-type {\n",
       "        vertical-align: middle;\n",
       "    }\n",
       "\n",
       "    .dataframe tbody tr th {\n",
       "        vertical-align: top;\n",
       "    }\n",
       "\n",
       "    .dataframe thead th {\n",
       "        text-align: right;\n",
       "    }\n",
       "</style>\n",
       "<table border=\"1\" class=\"dataframe\">\n",
       "  <thead>\n",
       "    <tr style=\"text-align: right;\">\n",
       "      <th></th>\n",
       "      <th>sentence</th>\n",
       "      <th>label</th>\n",
       "    </tr>\n",
       "  </thead>\n",
       "  <tbody>\n",
       "    <tr>\n",
       "      <th>0</th>\n",
       "      <td>So there is no way for me to plug it in here i...</td>\n",
       "      <td>0</td>\n",
       "    </tr>\n",
       "    <tr>\n",
       "      <th>1</th>\n",
       "      <td>Good case, Excellent value.</td>\n",
       "      <td>1</td>\n",
       "    </tr>\n",
       "    <tr>\n",
       "      <th>2</th>\n",
       "      <td>Great for the jawbone.</td>\n",
       "      <td>1</td>\n",
       "    </tr>\n",
       "    <tr>\n",
       "      <th>3</th>\n",
       "      <td>Tied to charger for conversations lasting more...</td>\n",
       "      <td>0</td>\n",
       "    </tr>\n",
       "    <tr>\n",
       "      <th>4</th>\n",
       "      <td>The mic is great.</td>\n",
       "      <td>1</td>\n",
       "    </tr>\n",
       "  </tbody>\n",
       "</table>\n",
       "</div>"
      ],
      "text/plain": [
       "                                            sentence  label\n",
       "0  So there is no way for me to plug it in here i...      0\n",
       "1                        Good case, Excellent value.      1\n",
       "2                             Great for the jawbone.      1\n",
       "3  Tied to charger for conversations lasting more...      0\n",
       "4                                  The mic is great.      1"
      ]
     },
     "execution_count": 5,
     "metadata": {},
     "output_type": "execute_result"
    }
   ],
   "source": [
    "df = pd.concat([amazon_df, imdb_df, yelp_df])\n",
    "\n",
    "# df = amazon_df\n",
    "df['label'] = df['label'].astype(int)\n",
    "df.head()"
   ]
  },
  {
   "cell_type": "markdown",
   "metadata": {},
   "source": [
    "## Exploratory Data Analysis\n",
    "\n",
    "We want to explore the dataset more before we built our model. In particular, we want to know more about the length and word count of our sentences."
   ]
  },
  {
   "cell_type": "code",
   "execution_count": 6,
   "metadata": {},
   "outputs": [
    {
     "data": {
      "text/html": [
       "<div>\n",
       "<style scoped>\n",
       "    .dataframe tbody tr th:only-of-type {\n",
       "        vertical-align: middle;\n",
       "    }\n",
       "\n",
       "    .dataframe tbody tr th {\n",
       "        vertical-align: top;\n",
       "    }\n",
       "\n",
       "    .dataframe thead th {\n",
       "        text-align: right;\n",
       "    }\n",
       "</style>\n",
       "<table border=\"1\" class=\"dataframe\">\n",
       "  <thead>\n",
       "    <tr style=\"text-align: right;\">\n",
       "      <th></th>\n",
       "      <th>sentence</th>\n",
       "      <th>label</th>\n",
       "      <th>chars</th>\n",
       "      <th>words</th>\n",
       "    </tr>\n",
       "  </thead>\n",
       "  <tbody>\n",
       "    <tr>\n",
       "      <th>0</th>\n",
       "      <td>So there is no way for me to plug it in here i...</td>\n",
       "      <td>0</td>\n",
       "      <td>82</td>\n",
       "      <td>21</td>\n",
       "    </tr>\n",
       "    <tr>\n",
       "      <th>1</th>\n",
       "      <td>Good case, Excellent value.</td>\n",
       "      <td>1</td>\n",
       "      <td>27</td>\n",
       "      <td>4</td>\n",
       "    </tr>\n",
       "    <tr>\n",
       "      <th>2</th>\n",
       "      <td>Great for the jawbone.</td>\n",
       "      <td>1</td>\n",
       "      <td>22</td>\n",
       "      <td>4</td>\n",
       "    </tr>\n",
       "    <tr>\n",
       "      <th>3</th>\n",
       "      <td>Tied to charger for conversations lasting more...</td>\n",
       "      <td>0</td>\n",
       "      <td>79</td>\n",
       "      <td>11</td>\n",
       "    </tr>\n",
       "    <tr>\n",
       "      <th>4</th>\n",
       "      <td>The mic is great.</td>\n",
       "      <td>1</td>\n",
       "      <td>17</td>\n",
       "      <td>4</td>\n",
       "    </tr>\n",
       "  </tbody>\n",
       "</table>\n",
       "</div>"
      ],
      "text/plain": [
       "                                            sentence  label  chars  words\n",
       "0  So there is no way for me to plug it in here i...      0     82     21\n",
       "1                        Good case, Excellent value.      1     27      4\n",
       "2                             Great for the jawbone.      1     22      4\n",
       "3  Tied to charger for conversations lasting more...      0     79     11\n",
       "4                                  The mic is great.      1     17      4"
      ]
     },
     "execution_count": 6,
     "metadata": {},
     "output_type": "execute_result"
    }
   ],
   "source": [
    "# count characters and words\n",
    "df['chars'] = df['sentence'].apply(len)\n",
    "df['words'] = df['sentence'].apply(lambda x: len(x.split()))\n",
    "df.head()"
   ]
  },
  {
   "cell_type": "code",
   "execution_count": 7,
   "metadata": {},
   "outputs": [
    {
     "data": {
      "image/png": "[encoded data removed]",
      "text/plain": [
       "<Figure size 432x288 with 1 Axes>"
      ]
     },
     "metadata": {
      "needs_background": "light"
     },
     "output_type": "display_data"
    },
    {
     "name": "stdout",
     "output_type": "stream",
     "text": [
      "Average words:  13.006550218340612\n",
      "Max words:  1390\n",
      "Min words:  1\n"
     ]
    }
   ],
   "source": [
    "# plot histogram\n",
    "plt.hist(df['words'], bins=50)\n",
    "plt.xlim(0, 100)\n",
    "plt.show()\n",
    "\n",
    "# print summary statistics\n",
    "avg_words = np.mean(df['words'])\n",
    "print('Average words: ', avg_words)\n",
    "print('Max words: ', np.max(df['words']))\n",
    "print('Min words: ', np.min(df['words']))"
   ]
  },
  {
   "cell_type": "code",
   "execution_count": 8,
   "metadata": {},
   "outputs": [
    {
     "data": {
      "image/png": "[encoded data removed]",
      "text/plain": [
       "<Figure size 432x288 with 1 Axes>"
      ]
     },
     "metadata": {
      "needs_background": "light"
     },
     "output_type": "display_data"
    },
    {
     "name": "stdout",
     "output_type": "stream",
     "text": [
      "Average chars:  71.52838427947599\n",
      "Max chars:  7944\n",
      "Min chars:  7\n"
     ]
    }
   ],
   "source": [
    "plt.clf()\n",
    "# plot histogram\n",
    "plt.hist(df['chars'], bins=1000)\n",
    "plt.xlim(0, 100)\n",
    "plt.show()\n",
    "\n",
    "# print summary statistics\n",
    "avg_chars = np.mean(df['chars'])\n",
    "print('Average chars: ', avg_chars)\n",
    "print('Max chars: ', np.max(df['chars']))\n",
    "print('Min chars: ', np.min(df['chars']))"
   ]
  },
  {
   "cell_type": "markdown",
   "metadata": {},
   "source": [
    "## Preprocessing\n",
    "\n",
    "We'll define a preprocessing function that makes use of tensorflow's preprocessing capabilities to:\n",
    "- truncate sentences to a specified length. We'll be using the average character length. This should be statistically large enough to convey the sentiment of the sentence.\n",
    "- replace charaters other than letters and quotes with spaces. This will remove characters such as emojis\n",
    "- pad the sentences\n",
    "\n",
    "Preprocessing function based on code from *Hands-On Machine Learning with SciKit-Learn, Keras, & Tensorflow*[1]."
   ]
  },
  {
   "cell_type": "code",
   "execution_count": 9,
   "metadata": {},
   "outputs": [
    {
     "name": "stdout",
     "output_type": "stream",
     "text": [
      "[b'Good' b'case' b'Excellent' b'value' b'<pad>' b'<pad>' b'<pad>' b'<pad>'\n",
      " b'<pad>' b'<pad>' b'<pad>' b'<pad>' b'<pad>' b'<pad>' b'<pad>' b'<pad>'\n",
      " b'<pad>' b'<pad>' b'<pad>' b'<pad>']\n"
     ]
    }
   ],
   "source": [
    "# chapter 16, page 536\n",
    "def preprocess(X_batch, y_batch):\n",
    "    # truncate sentences to only contain the average number of characters\n",
    "    X_batch = tf.strings.substr(X_batch, 0, avg_chars)\n",
    "    # replaces any characters other than letters and quotes with spaces\n",
    "    X_batch = tf.strings.regex_replace(X_batch, rb\"<br\\s*/?>\", b\" \")\n",
    "    X_batch = tf.strings.regex_replace(X_batch, b\"[^a-zA-Z']\", b\" \")\n",
    "    # splits by spaces\n",
    "    X_batch = tf.strings.split(X_batch)\n",
    "    # pad\n",
    "    return X_batch.to_tensor(default_value=b\"<pad>\"), y_batch\n",
    "\n",
    "X, y = preprocess(df['sentence'], df['label'])\n",
    "# show a processed sentence\n",
    "print(X.numpy()[1])"
   ]
  },
  {
   "cell_type": "markdown",
   "metadata": {},
   "source": [
    "## Vocabulary\n",
    "\n",
    "We'll count the total number of unique words in the data."
   ]
  },
  {
   "cell_type": "code",
   "execution_count": 10,
   "metadata": {},
   "outputs": [
    {
     "name": "stdout",
     "output_type": "stream",
     "text": [
      "[(b'<pad>', 29008), (b'the', 1000), (b'and', 783), (b'I', 744), (b'a', 623)]\n",
      "Total unique words:  4855\n"
     ]
    }
   ],
   "source": [
    "from collections import Counter\n",
    "vocabulary = Counter()\n",
    "for text in X:\n",
    "    vocabulary.update(list(text.numpy()))\n",
    "\n",
    "print(vocabulary.most_common(5))\n",
    "print('Total unique words: ', len(vocabulary))"
   ]
  },
  {
   "cell_type": "markdown",
   "metadata": {},
   "source": [
    "Now we'll truncate the vocabulary to half it's original size, taking only the top 50% recurring words."
   ]
  },
  {
   "cell_type": "code",
   "execution_count": 11,
   "metadata": {},
   "outputs": [
    {
     "name": "stdout",
     "output_type": "stream",
     "text": [
      "New Vocab Size:  2427\n"
     ]
    }
   ],
   "source": [
    "vocab_size = int(len(vocabulary) / 2)\n",
    "truncated_vocab = [w for w, c in vocabulary.most_common()[:vocab_size]]\n",
    "print('New Vocab Size: ', len(truncated_vocab))"
   ]
  },
  {
   "cell_type": "markdown",
   "metadata": {},
   "source": [
    "We create a lookuptable for the new vocabulary."
   ]
  },
  {
   "cell_type": "code",
   "execution_count": 12,
   "metadata": {},
   "outputs": [],
   "source": [
    "words = tf.constant(truncated_vocab)\n",
    "word_ids = tf.range(len(truncated_vocab), dtype=tf.int64)\n",
    "vocab_init = tf.lookup.KeyValueTensorInitializer(words, word_ids)\n",
    "num_oov_buckets = 1000\n",
    "table = tf.lookup.StaticVocabularyTable(vocab_init, num_oov_buckets)"
   ]
  },
  {
   "cell_type": "markdown",
   "metadata": {},
   "source": [
    "## Train/Test split"
   ]
  },
  {
   "cell_type": "code",
   "execution_count": 13,
   "metadata": {},
   "outputs": [],
   "source": [
    "def encode_words(X_batch, y_batch):\n",
    "    # use our existing preprocess function to get the tensors\n",
    "    X_, y_ = preprocess(X_batch, y_batch)\n",
    "    # convert the tensors to word ids\n",
    "    return table.lookup(X_), y_\n",
    "\n",
    "# split the raw dataframe into train and test\n",
    "X_train, X_test, y_train, y_test = train_test_split(df['sentence'], df['label'], test_size=0.2, random_state=69)\n",
    "# use our encode_words function to get encoded words\n",
    "X_train, y_train = encode_words(X_train, y_train)\n",
    "X_test, y_test = encode_words(X_test, y_test)"
   ]
  },
  {
   "cell_type": "markdown",
   "metadata": {},
   "source": [
    "# Model\n",
    "\n",
    "Now it is time to build and fit the model. "
   ]
  },
  {
   "cell_type": "code",
   "execution_count": 14,
   "metadata": {},
   "outputs": [
    {
     "name": "stdout",
     "output_type": "stream",
     "text": [
      "Model: \"sequential\"\n",
      "_________________________________________________________________\n",
      " Layer (type)                Output Shape              Param #   \n",
      "=================================================================\n",
      " embedding (Embedding)       (None, None, 11)          37697     \n",
      "                                                                 \n",
      " gru (GRU)                   (None, None, 20)          1980      \n",
      "                                                                 \n",
      " gru_1 (GRU)                 (None, 20)                2520      \n",
      "                                                                 \n",
      " dense (Dense)               (None, 1)                 21        \n",
      "                                                                 \n",
      "=================================================================\n",
      "Total params: 42,218\n",
      "Trainable params: 42,218\n",
      "Non-trainable params: 0\n",
      "_________________________________________________________________\n"
     ]
    },
    {
     "data": {
      "image/png": "[encoded data removed]",
      "text/plain": [
       "<IPython.core.display.Image object>"
      ]
     },
     "execution_count": 14,
     "metadata": {},
     "output_type": "execute_result"
    }
   ],
   "source": [
    "embed_size = 11\n",
    "model = keras.models.Sequential([\n",
    "    keras.layers.Embedding(vocab_size + num_oov_buckets, embed_size,\n",
    "                           mask_zero=True, # not shown in the book\n",
    "                           input_shape=[None]),\n",
    "    keras.layers.GRU(20, return_sequences=True),\n",
    "    keras.layers.GRU(20),\n",
    "    keras.layers.Dense(1, activation=\"sigmoid\")\n",
    "])\n",
    "model.compile(loss=\"binary_crossentropy\", optimizer=\"adam\", metrics=[\"accuracy\"])\n",
    "model.summary()\n",
    "\n",
    "from keras.utils.vis_utils import plot_model\n",
    "plot_model(model, to_file='model.png', show_shapes=True, show_layer_names=True)"
   ]
  },
  {
   "cell_type": "markdown",
   "metadata": {},
   "source": [
    "Our architecture is as follows:\n",
    "\n",
    "- Embedding Layer which will convert word IDs into embeddings\n",
    "- 2 Gated Recurrent Unit (GRU) layer, of which the last one only returns the output of the last time step\n",
    "- Single output neuron using the Sigmoid activation function. This will be a number representing the probability of the sentence expressing a positive sentiment.\n",
    "- Loss Function: BinaryCrossentropy since this is a binary classification problem \n",
    "- Optimizor: Adaptive Moment Estimation (ADAM). It is \"The method is straightforward to implement, is computationally efficient, has little memory requirements, is invariant to diagonal rescaling of the gradients, and is well suited for problems that are large in terms of data and/or parameters\" [1]\n",
    "\n",
    "\n",
    "We'll be running the model for 8 epochs."
   ]
  },
  {
   "cell_type": "code",
   "execution_count": 15,
   "metadata": {},
   "outputs": [
    {
     "name": "stdout",
     "output_type": "stream",
     "text": [
      "Epoch 1/8\n"
     ]
    },
    {
     "name": "stderr",
     "output_type": "stream",
     "text": [
      "2022-04-08 15:04:20.272989: W tensorflow/core/platform/profile_utils/cpu_utils.cc:128] Failed to get CPU frequency: 0 Hz\n"
     ]
    },
    {
     "name": "stdout",
     "output_type": "stream",
     "text": [
      "138/138 [==============================] - 5s 15ms/step - loss: 0.6820 - accuracy: 0.5491 - val_loss: 0.6115 - val_accuracy: 0.6655\n",
      "Epoch 2/8\n",
      "138/138 [==============================] - 1s 7ms/step - loss: 0.4026 - accuracy: 0.8308 - val_loss: 0.4603 - val_accuracy: 0.7891\n",
      "Epoch 3/8\n",
      "138/138 [==============================] - 1s 8ms/step - loss: 0.1842 - accuracy: 0.9359 - val_loss: 0.5341 - val_accuracy: 0.7964\n",
      "Epoch 4/8\n",
      "138/138 [==============================] - 1s 8ms/step - loss: 0.0915 - accuracy: 0.9713 - val_loss: 0.6529 - val_accuracy: 0.7764\n",
      "Epoch 5/8\n",
      "138/138 [==============================] - 1s 7ms/step - loss: 0.0439 - accuracy: 0.9886 - val_loss: 0.8218 - val_accuracy: 0.7727\n",
      "Epoch 6/8\n",
      "138/138 [==============================] - 1s 8ms/step - loss: 0.0270 - accuracy: 0.9936 - val_loss: 0.9883 - val_accuracy: 0.7909\n",
      "Epoch 7/8\n",
      "138/138 [==============================] - 1s 8ms/step - loss: 0.0184 - accuracy: 0.9959 - val_loss: 0.9976 - val_accuracy: 0.7709\n",
      "Epoch 8/8\n",
      "138/138 [==============================] - 1s 8ms/step - loss: 0.0129 - accuracy: 0.9982 - val_loss: 1.1647 - val_accuracy: 0.7764\n"
     ]
    }
   ],
   "source": [
    "history = model.fit(X_train, y_train, epochs=8, validation_data=(X_test, y_test), batch_size=16)"
   ]
  },
  {
   "cell_type": "markdown",
   "metadata": {},
   "source": [
    "## Accuracy"
   ]
  },
  {
   "cell_type": "code",
   "execution_count": 16,
   "metadata": {},
   "outputs": [
    {
     "name": "stdout",
     "output_type": "stream",
     "text": [
      "Final Training Accuracy: 0.9982\n",
      "Final Validation Accuracy:  0.7764\n"
     ]
    },
    {
     "data": {
      "image/png": "[encoded data removed]",
      "text/plain": [
       "<Figure size 432x288 with 1 Axes>"
      ]
     },
     "metadata": {
      "needs_background": "light"
     },
     "output_type": "display_data"
    }
   ],
   "source": [
    "history_dict = history.history\n",
    "\n",
    "acc = history_dict['accuracy']\n",
    "print(\"Final Training Accuracy: {:.4f}\".format(acc[-1]))\n",
    "\n",
    "val_acc = history_dict['val_accuracy']\n",
    "print(\"Final Validation Accuracy:  {:.4f}\".format(val_acc[-1]))\n",
    "\n",
    "epochs = range(1, len(acc) + 1)\n",
    "plt.plot(epochs, acc,  label='Training acc')\n",
    "plt.plot(epochs, val_acc, label='Validation acc')\n",
    "plt.title('Training and validation accuracy')\n",
    "plt.xlabel('Epochs')\n",
    "plt.ylabel('Accuracy')\n",
    "plt.legend()\n",
    "\n",
    "plt.show()"
   ]
  },
  {
   "cell_type": "markdown",
   "metadata": {},
   "source": [
    "We see our validation accuracy begin to stagnate around 3 epochs in the high 70s while our training data continues to trend towards 100%. This suggests some mild overfitting. However, even with the overfitting our model is still almost 80% accurate."
   ]
  },
  {
   "cell_type": "markdown",
   "metadata": {},
   "source": [
    "# Summary and Recommendations\n",
    "\n",
    "We've created a reasonably accurate model to predict positive sentiment across multiple review contexts. This model could be deployed by a company to quickly analyze what consumers think about a particular product."
   ]
  },
  {
   "cell_type": "markdown",
   "metadata": {},
   "source": [
    "# Bibliography\n",
    "\n",
    "[1] Geron, Aurelien. *Hands-On Machine Learning with Scikit-Learn, Keras, & Tensorflow*. Kiwisoft S.A.S, 2020.\n",
    "[2] Kingma, Ba. \"Adam: A Method for Stochastic Optimization\". *Cornell University*, 8 April 2022, https://arxiv.org/abs/1412.6980\n"
   ]
  }
 ],
 "metadata": {
  "interpreter": {
   "hash": "aa1c0332c1f0569c3cc1190506c80fab67af9672c203985e98fb5c081c05f0ff"
  },
  "kernelspec": {
   "display_name": "Python 3.10.4 ('d213-2')",
   "language": "python",
   "name": "python3"
  },
  "language_info": {
   "codemirror_mode": {
    "name": "ipython",
    "version": 3
   },
   "file_extension": ".py",
   "mimetype": "text/x-python",
   "name": "python",
   "nbconvert_exporter": "python",
   "pygments_lexer": "ipython3",
   "version": "3.8.11"
  },
  "orig_nbformat": 4
 },
 "nbformat": 4,
 "nbformat_minor": 2
}
